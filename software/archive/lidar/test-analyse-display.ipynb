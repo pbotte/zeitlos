{
 "cells": [
  {
   "attachments": {},
   "cell_type": "markdown",
   "metadata": {},
   "source": [
    "## Einsortierung in Array bins"
   ]
  },
  {
   "cell_type": "code",
   "execution_count": null,
   "metadata": {},
   "outputs": [],
   "source": [
    "from collections import deque\n",
    "d = deque(maxlen=8) #8Lidar has Hz => 1Sec\n",
    "\n",
    "reference_data = None"
   ]
  },
  {
   "cell_type": "code",
   "execution_count": null,
   "metadata": {},
   "outputs": [],
   "source": [
    "import queue\n",
    "import json\n",
    "import paho.mqtt.client as paho\n",
    "\n",
    "def on_message(client, userdata, message):\n",
    "    global d\n",
    "    m = message.payload.decode(\"utf-8\")\n",
    "    data=json.loads(m)\n",
    "    d.append(data)\n",
    "\n",
    "client = paho.Client()\n",
    "client.connect(\"lidar\")\n",
    "client.on_message = on_message\n",
    "client.subscribe(\"homie/lidar_readout_0/data\")\n",
    "client.loop_start()"
   ]
  },
  {
   "cell_type": "code",
   "execution_count": null,
   "metadata": {},
   "outputs": [],
   "source": [
    "import matplotlib.pyplot as plt\n",
    "import numpy as np"
   ]
  },
  {
   "cell_type": "code",
   "execution_count": null,
   "metadata": {},
   "outputs": [],
   "source": [
    "#prepare reference\n",
    "reference_data = d[0]\n",
    "\n",
    "# Separate angle and distance values\n",
    "angles_ref = np.array([entry[0] for entry in reference_data])\n",
    "distances_ref = np.array([entry[1] for entry in reference_data])\n",
    "\n",
    "# Convert angles to radians and multiply by -1 for counterclockwise orientation\n",
    "angles_rad_ref = -(angles_ref-210) * (2 * np.pi / 360)"
   ]
  },
  {
   "cell_type": "code",
   "execution_count": null,
   "metadata": {},
   "outputs": [],
   "source": [
    "# Darstellung\n",
    "while True:\n",
    "    data = d[0]\n",
    "    # Separate angle and distance values\n",
    "    angles = np.array([entry[0] for entry in data])\n",
    "    distances = np.array([entry[1] for entry in data])\n",
    "\n",
    "    # Convert angles to radians and multiply by -1 for counterclockwise orientation\n",
    "    angles_rad = -(angles-210) * (2 * np.pi / 360)\n",
    "\n",
    "    # Plot the data points and color the ones closer than the average distance differently\n",
    "    plt.figure()\n",
    "    plt.polar(angles_rad, distances, 'ro', markersize=2)  # Plot closer points in red\n",
    "    plt.polar(angles_rad_ref, distances_ref, 'bo', markersize=3)  # Plot closer points in blue\n",
    "\n",
    "\n",
    "    plt.title('Polar Plot')\n",
    "    plt.show()"
   ]
  },
  {
   "attachments": {},
   "cell_type": "markdown",
   "metadata": {},
   "source": [
    "# Unterschiede berechnen"
   ]
  },
  {
   "cell_type": "code",
   "execution_count": null,
   "metadata": {},
   "outputs": [],
   "source": [
    "#to be flexible in using 180 or 360 etc. bins\n",
    "reduction_factor = 2 # 2 for 180 degree bins, 1 for 360, etc."
   ]
  },
  {
   "cell_type": "code",
   "execution_count": null,
   "metadata": {},
   "outputs": [],
   "source": [
    "# prepare variables: one bin for each of the full circle (360 degree)\n",
    "d_combined = [] \n",
    "for v in range(360//reduction_factor):\n",
    "    d_combined.append([])\n",
    "\n",
    "#fill d_combined with data from d\n",
    "for v1 in d:\n",
    "    for v2 in v1:\n",
    "      d_combined[int(v2[0]//reduction_factor)].append(v2[1])\n",
    "\n",
    "# 5 measurements per degree bin necessary\n",
    "for k, v1 in enumerate(d_combined):\n",
    "    if len(v1) <5:\n",
    "      d_combined[k] = None\n",
    "      print(\".\", end=\"\")\n",
    "    else:\n",
    "      d_combined[k] = sum(v1)/len(v1)\n",
    "      print(\"X\", end=\"\")"
   ]
  },
  {
   "cell_type": "code",
   "execution_count": null,
   "metadata": {},
   "outputs": [],
   "source": [
    "# set reference\n",
    "reference_data = d_combined"
   ]
  },
  {
   "cell_type": "code",
   "execution_count": null,
   "metadata": {},
   "outputs": [],
   "source": [
    "import time\n",
    "while True:\n",
    "    # prepare variables: one bin for each of the full circle (360 degree)\n",
    "    d_combined = [] \n",
    "    for v in range(360//reduction_factor):\n",
    "        d_combined.append([])\n",
    "\n",
    "    #fill d_combined with data from d\n",
    "    for v1 in d:\n",
    "        for v2 in v1:\n",
    "          d_combined[int(v2[0]//reduction_factor)].append(v2[1])\n",
    "\n",
    "    # 5 measurements per degree bin necessary\n",
    "    for k, v1 in enumerate(d_combined):\n",
    "        if len(v1) <5:\n",
    "          d_combined[k] = None\n",
    "        else:\n",
    "          d_combined[k] = sum(v1)/len(v1)\n",
    "\n",
    "\n",
    "    if reference_data:\n",
    "      for k in range(len(reference_data)):\n",
    "        if d_combined[k] and reference_data[k]:\n",
    "          if d_combined[k] < reference_data[k]-100: # in mm\n",
    "            print(\"_\", end=\"\")\n",
    "          else:\n",
    "            print(\" \", end=\"\")\n",
    "        else:\n",
    "          print(\" \", end=\"\")\n",
    "    print(\"\")\n",
    "    time.sleep(1)"
   ]
  },
  {
   "cell_type": "code",
   "execution_count": null,
   "metadata": {},
   "outputs": [],
   "source": []
  }
 ],
 "metadata": {
  "kernelspec": {
   "display_name": "Python 3",
   "language": "python",
   "name": "python3"
  },
  "language_info": {
   "codemirror_mode": {
    "name": "ipython",
    "version": 3
   },
   "file_extension": ".py",
   "mimetype": "text/x-python",
   "name": "python",
   "nbconvert_exporter": "python",
   "pygments_lexer": "ipython3",
   "version": "3.10.11"
  },
  "orig_nbformat": 4
 },
 "nbformat": 4,
 "nbformat_minor": 2
}
